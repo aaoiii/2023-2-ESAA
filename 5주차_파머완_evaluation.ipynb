{
  "nbformat": 4,
  "nbformat_minor": 0,
  "metadata": {
    "colab": {
      "provenance": [],
      "authorship_tag": "ABX9TyOlD2ZCrh+GhYPofCPo3SHm",
      "include_colab_link": true
    },
    "kernelspec": {
      "name": "python3",
      "display_name": "Python 3"
    },
    "language_info": {
      "name": "python"
    }
  },
  "cells": [
    {
      "cell_type": "markdown",
      "metadata": {
        "id": "view-in-github",
        "colab_type": "text"
      },
      "source": [
        "<a href=\"https://colab.research.google.com/github/aaoiii/2023-2-ESAA/blob/main/5%EC%A3%BC%EC%B0%A8_%ED%8C%8C%EB%A8%B8%EC%99%84_evaluation.ipynb\" target=\"_parent\"><img src=\"https://colab.research.google.com/assets/colab-badge.svg\" alt=\"Open In Colab\"/></a>"
      ]
    },
    {
      "cell_type": "markdown",
      "source": [
        "# **Chap3. 평가**\n",
        "\n",
        "회귀: 실제값과 오차값의 오차 평균값\n",
        "\n",
        "분류의 성능 평가 지표:\n",
        "- 정확도\n",
        "- 오차행렬\n",
        "- 정밀도\n",
        "- 재현율\n",
        "- F1 스코어\n",
        "- ROC AUC\n",
        "\n",
        "\n",
        "\n",
        "**1. 정확도(Accuracy)**\n",
        "정확도 = 예측결과가 동일한 데이터 건수 / 전체 예측 데이터 건수\n",
        "- 모델 예측 성능을 나타내는 평가 지표\n"
      ],
      "metadata": {
        "id": "Ub88DvMKi75D"
      }
    },
    {
      "cell_type": "code",
      "execution_count": 5,
      "metadata": {
        "id": "I4ukjLp7gYxt"
      },
      "outputs": [],
      "source": [
        "from sklearn.base import BaseEstimator\n",
        "import numpy as np\n",
        "\n",
        "class MyDummyClassifier(BaseEstimator):\n",
        "  #fit 메서드는 아무것도 학습하지 않음\n",
        "  def fit(self,X,y=None):\n",
        "    pass\n",
        "  #predict()메서드는 단순히 Sex 피처가 1이면 0, 그렇지 않으면 1로 예측함\n",
        "  def predict(self,X):\n",
        "    pred=np.zeros((X.shape[0],1))\n",
        "    for i in range(X.shape[0]):\n",
        "      if X['Sex'].iloc[i]==1:\n",
        "        pred[i]=0\n",
        "      else:\n",
        "        pred[i]=1\n",
        "    return pred"
      ]
    },
    {
      "cell_type": "code",
      "source": [
        "import pandas as pd\n",
        "from sklearn.model_selection import train_test_split\n",
        "from sklearn.metrics import accuracy_score\n",
        "from sklearn.preprocessing import LabelEncoder\n",
        "\n",
        "#원본데이터를 재로딩, 데이터 가공, 학습 데이터/테스트 데이터 분할\n",
        "\n",
        "#Null 처리 함수\n",
        "def fillna(df):\n",
        "    df['Age'].fillna(df['Age'].mean(), inplace=True)\n",
        "    df['Cabin'].fillna('N', inplace=True)\n",
        "    df['Embarked'].fillna('N', inplace=True)\n",
        "    df['Fare'].fillna(0, inplace=True)\n",
        "    return df\n",
        "\n",
        "#머신러닝 알고리즘에 불필요한 속성 제거\n",
        "def drop_features(df):\n",
        "    df.drop(['PassengerId', 'Name', 'Ticket'], axis=1, inplace=True)\n",
        "    return df\n",
        "\n",
        "#레이블 인코딩 수행\n",
        "def format_features(df):\n",
        "    df['Cabin'] = df['Cabin'].str[:1]\n",
        "    features = ['Cabin', 'Sex', 'Embarked']\n",
        "    for feature in features:\n",
        "        le = LabelEncoder()\n",
        "        le = le.fit(df[feature])\n",
        "        df[feature] = le.transform(df[feature])\n",
        "    return df\n",
        "\n",
        "#앞에서 설정한 데이터 전처리 함수 호출\n",
        "def transform_features(df):\n",
        "    df = fillna(df)\n",
        "    df = drop_features(df)\n",
        "    df = format_features(df)\n",
        "    return df\n"
      ],
      "metadata": {
        "id": "RWbUMWoevZJH"
      },
      "execution_count": 15,
      "outputs": []
    },
    {
      "cell_type": "code",
      "source": [
        "import pandas as pd\n",
        "from sklearn.model_selection import train_test_split\n",
        "from sklearn.metrics import accuracy_score\n",
        "\n",
        "#원본 데이터를 재로딩, 데이터 가공, 학습 데이터/테스트 데이터 분할\n",
        "titanic_df=pd.read_csv('train.csv')\n",
        "y_titanic_df=titanic_df['Survived']\n",
        "X_titanic_df=titanic_df.drop('Survived',axis=1)\n",
        "X_titanic_df=transform_features(X_titanic_df)\n",
        "X_train,X_test,y_train,y_test=train_test_split(X_titanic_df,y_titanic_df,test_size=0.2,random_state=0)"
      ],
      "metadata": {
        "id": "Og1JaApzlInn"
      },
      "execution_count": 7,
      "outputs": []
    },
    {
      "cell_type": "code",
      "source": [
        "#위에서 생성한 Dummy Classifier을 이용해 학습/예측/평가 수행\n",
        "myclf=MyDummyClassifier()\n",
        "myclf.fit(X_train,y_train)\n",
        "\n",
        "mypredictions=myclf.predict(X_test)\n",
        "print('Dummy Classifier의 정확도는: {0:.4f}'.format(accuracy_score(y_test,mypredictions)))"
      ],
      "metadata": {
        "colab": {
          "base_uri": "https://localhost:8080/"
        },
        "id": "1bER-m1Ypgtk",
        "outputId": "cbc07bb7-42b3-4587-a6e2-e7196726c850"
      },
      "execution_count": 8,
      "outputs": [
        {
          "output_type": "stream",
          "name": "stdout",
          "text": [
            "Dummy Classifier의 정확도는: 0.7877\n"
          ]
        }
      ]
    },
    {
      "cell_type": "code",
      "source": [
        "#mnist 데이터세트\n",
        "\n",
        "from sklearn.datasets import load_digits\n",
        "from sklearn.model_selection import train_test_split\n",
        "from sklearn.base import BaseEstimator\n",
        "from sklearn.metrics import accuracy_score\n",
        "import numpy as np\n",
        "import pandas as pd\n",
        "\n",
        "class MyFakeClassifier(BaseEstimator):\n",
        "  def fit(self,X,y):\n",
        "    pass\n",
        "\n",
        "  #입력값으로 들어오는 X 데이터 세트의 크기만큼 모두 0값으로 만들어서 반환\n",
        "  def predict(self,X):\n",
        "    return np.zeros((len(X),1),dtype=bool)\n",
        "\n",
        "#사이킷런의 내장 데이터 세트인 load_digis()를 이용해 MNIST 데이터 로딩\n",
        "digits=load_digits()\n",
        "\n",
        "#digits 번호가 7번이면 True이고 이를 astype(int)로 1로변환, 7번이 아니면 False이고 0으로 반환.\n",
        "y=(digits.target==7).astype(int)\n",
        "X_train,X_test,y_train,y_test=train_test_split(digits.data,y,random_state=11)"
      ],
      "metadata": {
        "id": "7d_9QqmilMuc"
      },
      "execution_count": 9,
      "outputs": []
    },
    {
      "cell_type": "code",
      "source": [
        "#불균형한 레이블 데이터 분포도 확인.\n",
        "print('레이블 테스트 세트 크기:',y_test.shape)\n",
        "print('테스트 세트 레이블 0과1의분포도')\n",
        "print(pd.Series(y_test).value_counts())\n",
        "\n",
        "#Dummy Classifier 로 학습/예측/정확도 평가\n",
        "fakeclf=MyFakeClassifier()\n",
        "fakeclf.fit(X_train,y_train)\n",
        "fakepred=fakeclf.predict(X_test)\n",
        "print('모든 예측을 0으로 하여도 정확도:{:3f}.format(accuracy_score(y_test,fakepred))')"
      ],
      "metadata": {
        "colab": {
          "base_uri": "https://localhost:8080/"
        },
        "id": "22HwfrMPlM98",
        "outputId": "5025cd65-3dc1-4b9c-d164-d2889d7f792e"
      },
      "execution_count": 10,
      "outputs": [
        {
          "output_type": "stream",
          "name": "stdout",
          "text": [
            "레이블 테스트 세트 크기: (450,)\n",
            "테스트 세트 레이블 0과1의분포도\n",
            "0    405\n",
            "1     45\n",
            "dtype: int64\n",
            "모든 예측을 0으로 하여도 정확도:{:3f}.format(accuracy_score(y_test,fakepred))\n"
          ]
        }
      ]
    },
    {
      "cell_type": "markdown",
      "source": [
        "- 정확도 평가 지표는 불균형한 레이블 데이터 세트에서 성능 수치로 이용되면 안된다.\n",
        "\n",
        "=> 오차행렬(confusion matrix)"
      ],
      "metadata": {
        "id": "xYlydsrkz_lO"
      }
    },
    {
      "cell_type": "markdown",
      "source": [
        "# **2. 오차행렬**\n",
        "\n",
        "이진분류의 예측 오류가 얼마인지, 어떠한 유형의 예측 오류가 발생하고 있는지 나타내는 지표\n",
        "\n",
        "- 열: 실제 클래스\n",
        "- 행: 예측 클래스(predicted)"
      ],
      "metadata": {
        "id": "w72gkg620O4K"
      }
    },
    {
      "cell_type": "code",
      "source": [
        "from sklearn.metrics import confusion_matrix\n",
        "confusion_matrix(y_test,fakepred)\n",
        "\n",
        "#MyFakeClassifier에서 target==7에 대해 이진분류한 데이터 이용한 것"
      ],
      "metadata": {
        "colab": {
          "base_uri": "https://localhost:8080/"
        },
        "id": "yaUcszPT0YXm",
        "outputId": "e0e33a9e-4191-43d0-a738-47c868edd45f"
      },
      "execution_count": 11,
      "outputs": [
        {
          "output_type": "execute_result",
          "data": {
            "text/plain": [
              "array([[405,   0],\n",
              "       [ 45,   0]])"
            ]
          },
          "metadata": {},
          "execution_count": 11
        }
      ]
    },
    {
      "cell_type": "markdown",
      "source": [
        "- 정확도=예측 결과와 실제 값이 동일한 건수/전체 데이터 수\n",
        "- 불균형한 레이블 클래스를 가지는 이진 분류 모델에서는 중점적으로 찾아야하는 매우 적은 수의 결과값에 1 부여, 아닌 경우에 0(negative) 부여하는 경우 많음\n",
        "- negative로 예측 정확도가 높아지는 경향이 발생\n",
        "\n",
        "=> 불균형한 데이터 세트에서는 정확도보다는 정밀도와 재현율 사용!"
      ],
      "metadata": {
        "id": "PacyHh872BKm"
      }
    },
    {
      "cell_type": "markdown",
      "source": [
        "# **3. 정밀도와 재현율**\n",
        "\n",
        "정밀도= TP/(FP+TP)\n",
        "재현율= TP/(RN+TP)\n",
        "\n",
        "\n",
        "\n",
        "- 정밀도: 예측을 positive으로 한 대상 중에 예측과 실제 값이 positive로 일치한 데이터의 비율\n",
        "\n",
        "분모 (FP+TP) => 예측을 positive로 한 모든 데이터 건수\n",
        "\n",
        "분자 TP => 예측과 실제값이 positive 로 일치한 데이터 건수\n",
        "\n",
        "\n",
        "\n",
        "\n",
        "- 재현율(민감도, TPR): 실제 값이 positive인 대상 중에 예측과 실제 값이 positive로 일치한 데이터의 비율\n",
        "\n",
        "분모 (FN+TP) => 실제 값이 positive인 모든 데이터 개수\n",
        "\n",
        "분자 TP => 예측과 실제 값이 positive로 일치한 데이터 건수"
      ],
      "metadata": {
        "id": "_5hRQC3f3Mrk"
      }
    },
    {
      "cell_type": "markdown",
      "source": [
        "재현율이 중요 지표일 때 : 실제 positive 양성 데이터를 negative로 잘못 판단하게 되면 큰 영향이 발생하는 경우\n",
        "\n",
        "ex) 암 판단 모델, 금융 사기 적발 모델\n",
        "\n",
        "정밀도가 중요 지표일 때 : 실제 negative 음성인 데이터 예측을 positive 양성으로 잘못 판단하면 큰 영향이 발생하는 경우\n",
        "\n",
        "ex) 스팸메일 여부를 판단하는 모델"
      ],
      "metadata": {
        "id": "Xlb37IqpyWSN"
      }
    },
    {
      "cell_type": "markdown",
      "source": [
        "재현율 : 실제 positive, 예측 negative을 낮추려함\n",
        "\n",
        "정밀도 : FP를 낮추려함\n",
        "\n",
        "=> 재현율과 정밀도 모두 높은 수치를 얻는 것이 best"
      ],
      "metadata": {
        "id": "LAtawUFFyzW5"
      }
    },
    {
      "cell_type": "markdown",
      "source": [
        "정밀도 계산 : precision_score()\n",
        "\n",
        "재현율 계산 : recall_score()"
      ],
      "metadata": {
        "id": "xlgBGouSzQIh"
      }
    },
    {
      "cell_type": "code",
      "source": [
        "#confusion matrix, accuracy, precision, recall 등의 평가를 한번에 호출하는 get_clf_eval() 함수\n",
        "from sklearn.metrics import accuracy_score,precision_score, recall_score, confusion_matrix\n",
        "\n",
        "def get_clf_eval(y_test,pred):\n",
        "  confusion=confusion_matrix(y_test,pred)\n",
        "  accuracy=accuracy_score(y_test,pred)\n",
        "  precision=precision_score(y_test,pred)\n",
        "  recall=recall_score(y_test,pred)\n",
        "  print('오차 행렬')\n",
        "  print(confusion)\n",
        "  print('정확도: {0:.4f}, 정밀도: {1:.f}.format(accuracy,precision_call)')"
      ],
      "metadata": {
        "id": "KzkaSxUHzOwH"
      },
      "execution_count": 12,
      "outputs": []
    },
    {
      "cell_type": "code",
      "source": [
        "import pandas as pd\n",
        "from sklearn.model_selection import train_test_split\n",
        "from sklearn.linear_model import LogisticRegression\n",
        "\n",
        "#원본 데이터를 재로딩, 데이터 가공, 학습데이터/테스트 데이터 분할.\n",
        "titanic_df=pd.read_csv('train.csv')\n",
        "y_titanic_df=titanic_df['Survived']\n",
        "X_titanic_df=titanic_df.drop('Survived',axis=1)\n",
        "X_titanic_df=transform_features(X_titanic_df)\n",
        "\n",
        "X_train,X_test,y_train,y_test=train_test_split(X_titanic_df,y_titanic_df,test_size=0.2,random_state=11)\n",
        "lr_clf=LogisticRegression()\n",
        "\n",
        "lr_clf.fit(X_train,y_train)\n",
        "pred=lr_clf.predict(X_test)\n",
        "get_clf_eval(y_test,pred)\n",
        "\n",
        "\n",
        "\n",
        "\n",
        "\n",
        "\n"
      ],
      "metadata": {
        "colab": {
          "base_uri": "https://localhost:8080/"
        },
        "id": "fR8VE0f_zO78",
        "outputId": "abfd4190-2c55-4258-bf51-66563898b558"
      },
      "execution_count": 17,
      "outputs": [
        {
          "output_type": "stream",
          "name": "stdout",
          "text": [
            "오차 행렬\n",
            "[[104  14]\n",
            " [ 13  48]]\n",
            "정확도: {0:.4f}, 정밀도: {1:.f}.format(accuracy,precision_call)\n"
          ]
        },
        {
          "output_type": "stream",
          "name": "stderr",
          "text": [
            "/usr/local/lib/python3.10/dist-packages/sklearn/linear_model/_logistic.py:458: ConvergenceWarning: lbfgs failed to converge (status=1):\n",
            "STOP: TOTAL NO. of ITERATIONS REACHED LIMIT.\n",
            "\n",
            "Increase the number of iterations (max_iter) or scale the data as shown in:\n",
            "    https://scikit-learn.org/stable/modules/preprocessing.html\n",
            "Please also refer to the documentation for alternative solver options:\n",
            "    https://scikit-learn.org/stable/modules/linear_model.html#logistic-regression\n",
            "  n_iter_i = _check_optimize_result(\n"
          ]
        }
      ]
    },
    {
      "cell_type": "markdown",
      "source": [
        "# **정밀도/재현율 트레이드오프**\n",
        "\n",
        "- 분류의 결정 임곗값(threshold)조정하여 정밀도 또는 재현율의 수치를 높일 수 있다.\n",
        "\n",
        "- 정밀도와 재현율은 상호 보완적인 평가 지표\n",
        "=> trade-off\n",
        "\n",
        "<사이킷런의 분류 알고리즘>\n",
        "\n",
        "1. 예측데이터가 특정 레이블에 속하는지 계산하기 위해 개별 레이블별로 결정 확률 구함\n",
        "\n",
        "2. 예측 확률이 큰 레이블 값으로 예측\n",
        "\n",
        "<이진 분류 모델>\n",
        "임곗값을 0.5, 50% 로 정하고 기준보다 크면 positive, 작으면 negative\n",
        "\n",
        "- predict_proba() : 개별 데이터별로 예측 확률 반환\n",
        "- predict()와 유사, but 반환 결과가 예측 확률 결과임\n",
        "- 입력 파라미터 : 테스트 데이터 피처 데이터 세트\n",
        "- 반환값 : 개별 클래스의 예측 확률을 ndarray mxn\n",
        "- 각열의 개별 클래스의 예측 확률 (이진분류에서는 첫번째 칼럼은 0 negative 확률, 두번째 칼럼은 1 positive 확률)"
      ],
      "metadata": {
        "id": "0aCvtZ8b198k"
      }
    },
    {
      "cell_type": "code",
      "source": [
        "pred_proba=lr_clf.predict_proba(X_test)\n",
        "pred=lr_clf.predict(X_test)\n",
        "print('pred_proba()결과 Shape: {0}'.format(pred_proba.shape))\n",
        "print('pred_proba array에서 앞 3개만 샘플로 추출 \\n:',pred_proba[:3])\n",
        "\n",
        "#예측 확률 array와 예측 결괏값 array를 병합(concentration)해 예측 확률과 결괏값을 한눈에 확인\n",
        "pred_proba_result=np.concatenate([pred_proba,pred.reshape(-1,1)],axis=1)\n",
        "print('두 개의 class 중에서 더 큰 확률을 클래스 값으로 예측\\n',pred_proba_result[:3])"
      ],
      "metadata": {
        "colab": {
          "base_uri": "https://localhost:8080/"
        },
        "id": "7avOMNlGzO_c",
        "outputId": "01c010c3-8341-4c85-b2e0-3decb9bb0bd2"
      },
      "execution_count": 18,
      "outputs": [
        {
          "output_type": "stream",
          "name": "stdout",
          "text": [
            "pred_proba()결과 Shape: (179, 2)\n",
            "pred_proba array에서 앞 3개만 샘플로 추출 \n",
            ": [[0.46197474 0.53802526]\n",
            " [0.87872398 0.12127602]\n",
            " [0.87719492 0.12280508]]\n",
            "두 개의 class 중에서 더 큰 확률을 클래스 값으로 예측\n",
            " [[0.46197474 0.53802526 1.        ]\n",
            " [0.87872398 0.12127602 0.        ]\n",
            " [0.87719492 0.12280508 0.        ]]\n"
          ]
        }
      ]
    },
    {
      "cell_type": "markdown",
      "source": [
        "0과1에 대한 확률을 나타내므로 첫번째 칼러모가 두번째 칼럼을 더하면 1이 된다."
      ],
      "metadata": {
        "id": "T5DbxOek4Rjn"
      }
    },
    {
      "cell_type": "code",
      "source": [
        "#binarizer 클래스 이용\n",
        "from sklearn.preprocessing import Binarizer\n",
        "\n",
        "X=[[1,-1,2],[2,0,0],[0,1.1,1.2]]\n",
        "\n",
        "#X의 개별 원소들이 threshold 값보다 같거나 작으면 0을, 크면 1을 반환\n",
        "binarizer=Binarizer(threshold=1.1)\n",
        "print(binarizer.fit_transform(X))"
      ],
      "metadata": {
        "colab": {
          "base_uri": "https://localhost:8080/"
        },
        "id": "HDnod5nQ4ObL",
        "outputId": "cb02fd84-13de-49e7-a3b4-365fa4e2769a"
      },
      "execution_count": 19,
      "outputs": [
        {
          "output_type": "stream",
          "name": "stdout",
          "text": [
            "[[0. 0. 1.]\n",
            " [1. 0. 0.]\n",
            " [0. 0. 1.]]\n"
          ]
        }
      ]
    },
    {
      "cell_type": "markdown",
      "source": [
        "Binarizer의 threshold 값이 1.1보다 작거나 같으면 0, 크면 1 반환"
      ],
      "metadata": {
        "id": "5CykHl_z45fi"
      }
    },
    {
      "cell_type": "code",
      "source": [
        "from sklearn.preprocessing import Binarizer\n",
        "\n",
        "#Binarizer의 threshold 설정값, 분류 결정 임곗값임\n",
        "custom_threshold=0.5\n",
        "\n",
        "#predict_proba() 반환값의 두번째 칼럼, 즉 positive 클래스 칼럼 하나만 추출해 Binarizer를 적용\n",
        "pred_proba_1=pred_proba[:,1].reshape(-1,1)\n",
        "\n",
        "binarizer=Binarizer(threshold=custom_threshold).fit(pred_proba_1)\n",
        "custom_predict=binarizer.transform(pred_proba_1)\n",
        "\n",
        "get_clf_eval(y_test,custom_predict)"
      ],
      "metadata": {
        "colab": {
          "base_uri": "https://localhost:8080/"
        },
        "id": "udYF62rl5D0d",
        "outputId": "7c3c584a-c402-4e3e-e518-55df74815bcf"
      },
      "execution_count": 20,
      "outputs": [
        {
          "output_type": "stream",
          "name": "stdout",
          "text": [
            "오차 행렬\n",
            "[[104  14]\n",
            " [ 13  48]]\n",
            "정확도: {0:.4f}, 정밀도: {1:.f}.format(accuracy,precision_call)\n"
          ]
        }
      ]
    },
    {
      "cell_type": "code",
      "source": [
        "#Binarizer의 threshold 설정값을 0.4로 설정. 즉 분류 결정 임곗값을 0.5에서 0.4로 낮춤\n",
        "custom_threshold=0.4\n",
        "pred_proba_1=pred_proba[:,1].reshape(-1,1)\n",
        "binarizer=Binarizer(threshold=custom_threshold).fit(pred_proba_1)\n",
        "custom_predict=binarizer.transform(pred_proba_1)\n",
        "\n",
        "get_clf_eval(y_test,custom_predict)"
      ],
      "metadata": {
        "colab": {
          "base_uri": "https://localhost:8080/"
        },
        "id": "V9D98PXn5m23",
        "outputId": "80df0ca9-9b3d-4d97-e95d-b34d8c920f2e"
      },
      "execution_count": 22,
      "outputs": [
        {
          "output_type": "stream",
          "name": "stdout",
          "text": [
            "오차 행렬\n",
            "[[98 20]\n",
            " [10 51]]\n",
            "정확도: {0:.4f}, 정밀도: {1:.f}.format(accuracy,precision_call)\n"
          ]
        }
      ]
    },
    {
      "cell_type": "markdown",
      "source": [
        "- 임곗값을 낮추니 재현율이 올라가고 정밀도가 떨어짐\n",
        "- 분류결정임곗값은 positive 예측값을 결정하는 확률의 기준\n",
        "- positive 예측값이 많아지면 재현율 값이 높아진다"
      ],
      "metadata": {
        "id": "_-UakMQ76IPn"
      }
    },
    {
      "cell_type": "code",
      "source": [
        "#테스트를 수행할 모든 임곗값을 리스트 객체로 저장\n",
        "thresholds=[0.4,0.45,0.50,0.60]\n",
        "\n",
        "def get_eval_by_threshold(y_test,pred_proba_c1,thresholds):\n",
        "  #thresholds lists 객체 내의 값을 차례로 iteration 하면서 evaluation 수행\n",
        "  for custom_threshold  in thresholds:\n",
        "    binarizer=Binarizer(threshold=custom_threshold).fit(pred_proba_c1)\n",
        "    custom_predict=binarizer.transform(pred_proba_c1)\n",
        "    print('임곗값:',custom_threshold)\n",
        "    get_clf_eval(y_test,custom_predict)\n",
        "\n",
        "get_eval_by_threshold(y_test,pred_proba[:,1].reshape(-1,1),thresholds)"
      ],
      "metadata": {
        "colab": {
          "base_uri": "https://localhost:8080/"
        },
        "id": "v0smeAQn5EPw",
        "outputId": "6a66ab2f-21eb-48c2-dbb1-000ee2a3095a"
      },
      "execution_count": 25,
      "outputs": [
        {
          "output_type": "stream",
          "name": "stdout",
          "text": [
            "임곗값: 0.4\n",
            "오차 행렬\n",
            "[[98 20]\n",
            " [10 51]]\n",
            "정확도: {0:.4f}, 정밀도: {1:.f}.format(accuracy,precision_call)\n",
            "임곗값: 0.45\n",
            "오차 행렬\n",
            "[[103  15]\n",
            " [ 12  49]]\n",
            "정확도: {0:.4f}, 정밀도: {1:.f}.format(accuracy,precision_call)\n",
            "임곗값: 0.5\n",
            "오차 행렬\n",
            "[[104  14]\n",
            " [ 13  48]]\n",
            "정확도: {0:.4f}, 정밀도: {1:.f}.format(accuracy,precision_call)\n",
            "임곗값: 0.6\n",
            "오차 행렬\n",
            "[[112   6]\n",
            " [ 16  45]]\n",
            "정확도: {0:.4f}, 정밀도: {1:.f}.format(accuracy,precision_call)\n"
          ]
        }
      ]
    },
    {
      "cell_type": "markdown",
      "source": [
        "precision_recall_curve()\n",
        "- 입력 파라미터: y_true, probas_pred\n",
        "- 반환 값: 정밀도, 재현율"
      ],
      "metadata": {
        "id": "OWfWrDJ57eUo"
      }
    },
    {
      "cell_type": "code",
      "source": [
        "from sklearn.metrics import precision_recall_curve\n",
        "#레이블 값이 1일때의 예측 확률을 추출\n",
        "pred_proba_class1=lr_clf.predict_proba(X_test)[:,1]\n",
        "\n",
        "#실제값 데이터 세트와 레이블 값이 1일 때의 예측 확률을 precision_recall_curve 인자로 입력\n",
        "precisions, recalls, thresholds=precision_recall_curve(y_test,pred_proba_class1)\n",
        "print('반환된 분류 결정 임곗값 배열의 shape:',thresholds.shape)\n",
        "\n",
        "#반환된 임계값 배열 로우가 147건이므로 샘플로 10건만 추출하되, 임곗값을 15 step으로 추출\n",
        "thr_index=np.arange(0,thresholds.shape[0],15)\n",
        "print('샘플 추출을 위한 임계값 배열의 index 10 개:',thr_index)\n",
        "print('샘플용 10개의 임곗값:',np.round(thresholds[thr_index],2))\n",
        "\n",
        "#15 step 단위로추출된 임곗값에 따른 정밀도와 재현율 값\n",
        "print('샘플 임계값별 정밀도:',np.round(precisions[thr_index],3))\n",
        "print('샘플 임계값별 재현율:', np.round(recalls[thr_index],3))"
      ],
      "metadata": {
        "colab": {
          "base_uri": "https://localhost:8080/"
        },
        "id": "c45ZsBp67FZU",
        "outputId": "9271a46d-0179-40c9-ee62-2282a090a944"
      },
      "execution_count": 26,
      "outputs": [
        {
          "output_type": "stream",
          "name": "stdout",
          "text": [
            "반환된 분류 결정 임곗값 배열의 shape: (165,)\n",
            "샘플 추출을 위한 임계값 배열의 index 10 개: [  0  15  30  45  60  75  90 105 120 135 150]\n",
            "샘플용 10개의 임곗값: [0.01 0.09 0.11 0.13 0.15 0.23 0.35 0.5  0.63 0.75 0.89]\n",
            "샘플 임계값별 정밀도: [0.341 0.372 0.415 0.448 0.505 0.585 0.688 0.774 0.913 0.935 0.938]\n",
            "샘플 임계값별 재현율: [1.    1.    0.967 0.918 0.902 0.902 0.869 0.787 0.689 0.475 0.246]\n"
          ]
        }
      ]
    },
    {
      "cell_type": "code",
      "source": [
        "#precision_recall_curv() : 정밀도와 재현율의 임곗값에 따른 값 변화를 곡선 형태의 그래프로 시각화\n",
        "import matplotlib.pyplot as plt\n",
        "import matplotlib.ticker as ticker\n",
        "%matplotlib inline\n",
        "\n",
        "def precision_recall_curve_plot(y_test,pred_proba_c1):\n",
        "  #threshold ndarray 와 이 threshold 에 따른 정밀도, 재현율 ndarray 추출.\n",
        "  precisions, recalls, thresholds= precision_recall_curve(y_test,pred_proba_c1)\n",
        "\n",
        "  #X축을 threshold값으로, Y축은 정밀도, 재현율 값으로 각각 plot 수행. 정밀도는 점선으로 표시\n",
        "  plt.figure(figsize=(8,6))\n",
        "  threshold_boundary=thresholds.shape[0]\n",
        "  plt.plot(thresholds, precisions[0:threshold_boundary],linestyle='-',label='precision')\n",
        "  plt.plot(thresholds,recalls[0:threshold_boundary],label='recall')\n",
        "\n",
        "  #threshold 값 X축의 Scale을 0.1 단위로 변경\n",
        "  start,end=plt.xlim()\n",
        "  plt.xticks(np.round(np.arange(start,end,0.1),2))\n",
        "\n",
        "  #x축, y축 label과 legend, 그리고 grid 설정\n",
        "  plt.xlabel('Threshold value')\n",
        "  plt.ylabel('Precision and Recall value')\n",
        "  plt.legend()\n",
        "  plt.grid()\n",
        "  plt.show()\n",
        "\n",
        "precision_recall_curve_plot(y_test,lr_clf.predict_proba(X_test)[:,1])"
      ],
      "metadata": {
        "colab": {
          "base_uri": "https://localhost:8080/",
          "height": 542
        },
        "id": "9IHmfrCZ9EeO",
        "outputId": "d059f46d-b745-40f4-9c38-b0c010fe7a4b"
      },
      "execution_count": 29,
      "outputs": [
        {
          "output_type": "display_data",
          "data": {
            "text/plain": [
              "<Figure size 800x600 with 1 Axes>"
            ],
            "image/png": "[encoded data removed]"
          },
          "metadata": {}
        }
      ]
    },
    {
      "cell_type": "markdown",
      "source": [
        "- 정밀도를 점선으로, 재현율은 실선으로 표현\n",
        "- 임곗값이 낮을수록 많은 수의 양성 예측으로인해 재현율 값이 극도로 높아지고 정밀도 값이 극도로 낮아진다."
      ],
      "metadata": {
        "id": "17PUhoCV-wWu"
      }
    },
    {
      "cell_type": "markdown",
      "source": [
        "# **정밀도와 재현율의 맹점**\n",
        "\n",
        "<정밀도가 100%가 되는 방법>\n",
        "- 확실한 기준이 되는 경우만 positive로 예측하고 나머지는 모두 negative로 예측한다\n",
        "\n",
        "<재현율이 100%가 되는 방법>\n",
        "- 모든 환자를 positive로 예측한다\n",
        "\n",
        "=> 정밀도와 재현율 중 하나만 스코어가 좋고 하나는 스코어가 나쁜 분류는 성능이 좋지 않은 분류"
      ],
      "metadata": {
        "id": "v8dSjFWP_mmk"
      }
    },
    {
      "cell_type": "markdown",
      "source": [
        "# **4. F1 스코어**\n",
        "\n",
        "- F1 스코어: 정밀도와 재현율을 결합한 지표\n",
        "- 정밀도와 재현율이 한쪽으로 치우치지 않는 수치를 나타낼 때 높음\n",
        "\n",
        "F1= 2/ (1/recall+1/precision) = 2 * (precision*recall)/(precision+recall)"
      ],
      "metadata": {
        "id": "lD1hmdvoAZ6K"
      }
    },
    {
      "cell_type": "markdown",
      "source": [],
      "metadata": {
        "id": "bqnjNKMaAXUT"
      }
    },
    {
      "cell_type": "code",
      "source": [
        "from sklearn.metrics import f1_score\n",
        "f1=f1_score(y_test,pred)\n",
        "print('F1 스코어: {0:.4f}'.format(f1))\n"
      ],
      "metadata": {
        "colab": {
          "base_uri": "https://localhost:8080/"
        },
        "id": "SCTFRHwk-q6n",
        "outputId": "aa4bdcee-7836-45ea-b5ab-fcb8a0282175"
      },
      "execution_count": 30,
      "outputs": [
        {
          "output_type": "stream",
          "name": "stdout",
          "text": [
            "F1 스코어: 0.7805\n"
          ]
        }
      ]
    },
    {
      "cell_type": "code",
      "source": [
        "def get_clf_eval(y_test,pred):\n",
        "  confusion=confusion_matrix(y_test,pred)\n",
        "  accuracy=accuracy_score(y_test,pred)\n",
        "  precision=precision_score(y_test,pred)\n",
        "  recall=recall_score(y_test,pred)\n",
        "  #F1 스코어 추가\n",
        "  f1=f1_score(y_test,pred)\n",
        "  print('오차행렬')\n",
        "  print(confusion)\n",
        "  #f1 score print 추가\n",
        "  print('정확도: {0:.4f},정밀도: {1:.4f},재현율: {2:.4f}, F1:{3:.4f}'.format(accuracy,precision,recall,f1))\n",
        "\n",
        "  thresholds=[0.4,0.45,0.5,0.55,0.6]\n",
        "  pred_proba=lr_clf.predict_proba(X_test)\n",
        "  get_eval_by_threshold(y_test,pred_proba[:,1].reshape(-1,1),thresholds)"
      ],
      "metadata": {
        "id": "a6pcQZ489Evc"
      },
      "execution_count": 32,
      "outputs": []
    },
    {
      "cell_type": "markdown",
      "source": [
        "# **5. ROC 곡선과 AUC**\n",
        "\n",
        "- 이진 분류의 예측 성능 측정에서 중요하게 사용되는 지표\n",
        "- ROC 곡선 : 수신자 판단 곡선\n",
        "  - RPR 이 변할 때 TPR 이 어떻게 변하는지 나타내는 곡선\n",
        "  - 가운데 직선에 가까울수록 성능이 떨어지는 것, 멀어질수록 성능이 뛰어난 것\n",
        "\n",
        "- TPR 곡선 : 재현율을 나타냄(민감도)\n",
        "  - 민감도에 대응하는 지표: TNR(true negative rate)\n",
        "\n",
        "\n",
        "- 민감도(TPR) : 실제값 positive 가 정확히 예측돼야하는 수준을 나타냄\n",
        "- 특이성(TNR) : 실제값 negative가 정확히 예측돼야하는 수준 나타냄\n",
        "\n",
        "FPR=FP/(FP+TN)=1-TNR=1-특이성\n"
      ],
      "metadata": {
        "id": "kXKHbJ82B29S"
      }
    },
    {
      "cell_type": "markdown",
      "source": [
        "roc_curve() : ROC 곡선 구하기 위한 api\n",
        "- 입력 파라미터: y_true, y_score\n",
        "- 반환값: fpr,tpr,thresholds"
      ],
      "metadata": {
        "id": "knyew2S9C7Ok"
      }
    },
    {
      "cell_type": "code",
      "source": [
        "from sklearn.metrics import roc_curve\n",
        "\n",
        "#레이블 값이 1일때의 예측확률을 추출\n",
        "pred_proba_class1=lr_clf.predict_proba(X_test)[:,1]\n",
        "\n",
        "fprs,tprs,thresholds=roc_curve(y_test,pred_proba_class1)\n",
        "#반환된 임곗값 배열 로우가 47건이므로 샘플로 10건만 추출하되, 임곗값을 5 step으로 추출\n",
        "#thresholds[0]은 max (예측확률)+1로 임의 설정됨. 이를 제외하기 위해 np.arange는 1부터 시작\n",
        "thr_index=np.arange(1,thresholds.shape[0],5)\n",
        "print('샘플 추출을 위한 임곗값 배열의 index 10개:',thr_index)\n",
        "print('샘플용 10개의 임곗값:',np.round(thresholds[thr_index],2))\n",
        "\n",
        "#5step 단위로 추출된 임계값에 따른 FPR,TPR 값\n",
        "print('샘플 임곗값별 FPR:',np.round(fprs[thr_index],3))\n",
        "print('샘플 임곗값별 TPR:',np.round(tprs[thr_index],3))"
      ],
      "metadata": {
        "colab": {
          "base_uri": "https://localhost:8080/"
        },
        "id": "ysxzx-OhDKO8",
        "outputId": "092e4d1b-542b-4d00-9a73-686346382e17"
      },
      "execution_count": 33,
      "outputs": [
        {
          "output_type": "stream",
          "name": "stdout",
          "text": [
            "샘플 추출을 위한 임곗값 배열의 index 10개: [ 1  6 11 16 21 26 31 36 41 46 51]\n",
            "샘플용 10개의 임곗값: [0.97 0.65 0.63 0.56 0.45 0.4  0.35 0.15 0.13 0.11 0.11]\n",
            "샘플 임곗값별 FPR: [0.    0.017 0.034 0.076 0.127 0.169 0.203 0.466 0.585 0.686 0.797]\n",
            "샘플 임곗값별 TPR: [0.033 0.639 0.721 0.754 0.803 0.836 0.885 0.902 0.934 0.967 0.984]\n"
          ]
        }
      ]
    },
    {
      "cell_type": "code",
      "source": [
        "def roc_curve_plot(y_test,pred_proba_c1):\n",
        "  #임곗값에 따른 FPR,TPR 값을 반환받음\n",
        "  fprs, tprs, thresholds=roc_curve(y_test,pred_proba_c1)\n",
        "  #ROC 곡선을 그래프 곡선으로 그림\n",
        "  plt.plot(fprs,tprs,label='ROC')\n",
        "  #가운데 대각선 직선을 그림\n",
        "  plt.plot([0,1],[0,1],'k-',label='Random')\n",
        "\n",
        "  #FPR X축의 scale을 0.1단위로 변경, X, Y축 명 설정 등\n",
        "  start,end=plt.xlim()\n",
        "  plt.xticks(np.round(np.arange(start,end,0.1),2))\n",
        "  plt.xlim(0,1)\n",
        "  plt.ylim(0,1)\n",
        "  plt.xlabel('FPR(1-sensitivity)')\n",
        "  plt.ylabel('TPR(Recall)')\n",
        "  plt.legend()\n",
        "\n",
        "roc_curve_plot(y_test,pred_proba[:,1])"
      ],
      "metadata": {
        "colab": {
          "base_uri": "https://localhost:8080/",
          "height": 455
        },
        "id": "MFK9oIYMB1T7",
        "outputId": "4ae2e39e-3a3d-4c76-d87d-44cd21ae9199"
      },
      "execution_count": 35,
      "outputs": [
        {
          "output_type": "display_data",
          "data": {
            "text/plain": [
              "<Figure size 640x480 with 1 Axes>"
            ],
            "image/png": "[encoded data removed]"
          },
          "metadata": {}
        }
      ]
    },
    {
      "cell_type": "code",
      "source": [
        "from sklearn.metrics import accuracy_score,confusion_matrix,precision_score\n",
        "from sklearn.metrics import recall_score,f1_score,roc_auc_score\n",
        "import numpy as np\n",
        "\n",
        "print(confusion_matrix(y_test,pred))\n",
        "print('정확도:',np.round(accuracy_score(y_target,preds),4))\n",
        "print('정밀도:',np.round(precision_score(y_target,preds),4))\n",
        "print('재현율:',np.round(recall_score(y_target,preds),4))"
      ],
      "metadata": {
        "id": "TWtg5hYN9EzB"
      },
      "execution_count": null,
      "outputs": []
    },
    {
      "cell_type": "code",
      "source": [
        "def get_clf_eval(y_test,pred=None,pred_proba=None):\n",
        "  confusion=confusion_matrix(y_test,pred)\n",
        "  accuracy=accuracy_score(y_test,pred)\n",
        "  precision=precision_score(y_test,pred)\n",
        "  recall=recall_score(y_test,pred)\n",
        "  f1=f1_score(y_test,pred)\n",
        "  #ROC-AUC 추가\n",
        "  roc_auc=roc_auc_score(y_test,pred_proba)\n",
        "  print('오차 행렬')\n",
        "  print(confusion)\n",
        "  #ROC-AUC print 추가\n",
        "  print('정확도: {0:.4f},정밀도:{1:.4f},재현율:{2:.4f},\\\n",
        "  F1:{3:.4f},AUC:{4:.4f}'.format(accuracy,precision,recall,f1,roc_auc))"
      ],
      "metadata": {
        "id": "dU8_dlmz9E2Y"
      },
      "execution_count": 40,
      "outputs": []
    },
    {
      "cell_type": "code",
      "source": [],
      "metadata": {
        "id": "eiFQ6_409E53"
      },
      "execution_count": null,
      "outputs": []
    },
    {
      "cell_type": "code",
      "source": [],
      "metadata": {
        "id": "bonDefV-9E_M"
      },
      "execution_count": null,
      "outputs": []
    },
    {
      "cell_type": "code",
      "source": [],
      "metadata": {
        "id": "AJ_XBXqU9FDY"
      },
      "execution_count": null,
      "outputs": []
    },
    {
      "cell_type": "code",
      "source": [],
      "metadata": {
        "id": "tK_ybZoi5ESq"
      },
      "execution_count": null,
      "outputs": []
    },
    {
      "cell_type": "code",
      "source": [],
      "metadata": {
        "id": "3I4gSBTN5EVp"
      },
      "execution_count": null,
      "outputs": []
    },
    {
      "cell_type": "code",
      "source": [],
      "metadata": {
        "id": "n_85kU-9zPB8"
      },
      "execution_count": null,
      "outputs": []
    },
    {
      "cell_type": "code",
      "source": [],
      "metadata": {
        "id": "SKxrsOr1zPEw"
      },
      "execution_count": null,
      "outputs": []
    },
    {
      "cell_type": "code",
      "source": [],
      "metadata": {
        "id": "Slr45KgizPHS"
      },
      "execution_count": null,
      "outputs": []
    },
    {
      "cell_type": "code",
      "source": [],
      "metadata": {
        "id": "Almd5lpnzPJ_"
      },
      "execution_count": null,
      "outputs": []
    },
    {
      "cell_type": "code",
      "source": [],
      "metadata": {
        "id": "qJjexEtKzPM0"
      },
      "execution_count": null,
      "outputs": []
    },
    {
      "cell_type": "code",
      "source": [],
      "metadata": {
        "id": "KXnZr5oUzPPc"
      },
      "execution_count": null,
      "outputs": []
    },
    {
      "cell_type": "code",
      "source": [],
      "metadata": {
        "id": "GdOgjuF3zPSV"
      },
      "execution_count": null,
      "outputs": []
    },
    {
      "cell_type": "code",
      "source": [],
      "metadata": {
        "id": "Aumq_w9ZzCeb"
      },
      "execution_count": null,
      "outputs": []
    },
    {
      "cell_type": "code",
      "source": [],
      "metadata": {
        "id": "NJ_HAnCe0Nx3"
      },
      "execution_count": null,
      "outputs": []
    },
    {
      "cell_type": "code",
      "source": [],
      "metadata": {
        "id": "AQBj6Gc1z4gc"
      },
      "execution_count": null,
      "outputs": []
    },
    {
      "cell_type": "code",
      "source": [],
      "metadata": {
        "id": "1OzDDzXdlNBT"
      },
      "execution_count": null,
      "outputs": []
    },
    {
      "cell_type": "code",
      "source": [],
      "metadata": {
        "id": "AKRUvgetlNEi"
      },
      "execution_count": null,
      "outputs": []
    },
    {
      "cell_type": "code",
      "source": [],
      "metadata": {
        "id": "Ab-yHKG4lNHn"
      },
      "execution_count": null,
      "outputs": []
    },
    {
      "cell_type": "code",
      "source": [],
      "metadata": {
        "id": "KNaBYQcxlNLK"
      },
      "execution_count": null,
      "outputs": []
    },
    {
      "cell_type": "code",
      "source": [],
      "metadata": {
        "id": "ZMPUJ7Z-lNOT"
      },
      "execution_count": null,
      "outputs": []
    },
    {
      "cell_type": "code",
      "source": [],
      "metadata": {
        "id": "Skti9p5ulNRy"
      },
      "execution_count": null,
      "outputs": []
    },
    {
      "cell_type": "code",
      "source": [],
      "metadata": {
        "id": "_yhVsV3ZlNVY"
      },
      "execution_count": null,
      "outputs": []
    }
  ]
}