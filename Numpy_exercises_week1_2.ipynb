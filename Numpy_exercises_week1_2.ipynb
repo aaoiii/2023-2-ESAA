{
  "cells": [
    {
      "cell_type": "markdown",
      "metadata": {
        "id": "view-in-github",
        "colab_type": "text"
      },
      "source": [
        "<a href=\"https://colab.research.google.com/github/aaoiii/2023-2-ESAA/blob/main/Numpy_exercises_week1_2.ipynb\" target=\"_parent\"><img src=\"https://colab.research.google.com/assets/colab-badge.svg\" alt=\"Open In Colab\"/></a>"
      ]
    },
    {
      "cell_type": "markdown",
      "id": "bf79c78b",
      "metadata": {
        "id": "bf79c78b"
      },
      "source": [
        "# Numpy exercises\n",
        "\n",
        "This is a collection of exercises that have been collected in the numpy mailing list, on stack overflow\n",
        "and in the numpy documentation. The goal of this collection is to offer a quick reference for both old\n",
        "and new users but also to provide a set of exercises for those who teach.\n",
        "\n",
        "\n",
        "If you find an error or think you've a better way to solve some of them, feel\n",
        "free to open an issue at <https://github.com/rougier/numpy-100>."
      ]
    },
    {
      "cell_type": "markdown",
      "id": "8536e059",
      "metadata": {
        "id": "8536e059"
      },
      "source": [
        "File automatically generated. See the documentation to update questions/answers/hints programmatically."
      ]
    },
    {
      "cell_type": "markdown",
      "id": "017db353",
      "metadata": {
        "id": "017db353"
      },
      "source": [
        "#### 1. Import the numpy package under the name `np` (★☆☆)"
      ]
    },
    {
      "cell_type": "code",
      "execution_count": null,
      "id": "68182a76",
      "metadata": {
        "id": "68182a76"
      },
      "outputs": [],
      "source": [
        "import numpy as np"
      ]
    },
    {
      "cell_type": "markdown",
      "id": "46950f4f",
      "metadata": {
        "id": "46950f4f"
      },
      "source": [
        "#### 2. Print the numpy version and the configuration (★☆☆)"
      ]
    },
    {
      "cell_type": "code",
      "execution_count": null,
      "id": "2a9f5838",
      "metadata": {
        "id": "2a9f5838",
        "outputId": "0c6c5f48-4fb3-4c78-e5c3-3c05813d7904"
      },
      "outputs": [
        {
          "name": "stdout",
          "output_type": "stream",
          "text": [
            "1.23.5\n",
            "openblas64__info:\n",
            "    library_dirs = ['D:\\\\a\\\\numpy\\\\numpy\\\\build\\\\openblas64__info']\n",
            "    libraries = ['openblas64__info']\n",
            "    language = f77\n",
            "    define_macros = [('HAVE_CBLAS', None), ('BLAS_SYMBOL_SUFFIX', '64_'), ('HAVE_BLAS_ILP64', None)]\n",
            "blas_ilp64_opt_info:\n",
            "    library_dirs = ['D:\\\\a\\\\numpy\\\\numpy\\\\build\\\\openblas64__info']\n",
            "    libraries = ['openblas64__info']\n",
            "    language = f77\n",
            "    define_macros = [('HAVE_CBLAS', None), ('BLAS_SYMBOL_SUFFIX', '64_'), ('HAVE_BLAS_ILP64', None)]\n",
            "openblas64__lapack_info:\n",
            "    library_dirs = ['D:\\\\a\\\\numpy\\\\numpy\\\\build\\\\openblas64__lapack_info']\n",
            "    libraries = ['openblas64__lapack_info']\n",
            "    language = f77\n",
            "    define_macros = [('HAVE_CBLAS', None), ('BLAS_SYMBOL_SUFFIX', '64_'), ('HAVE_BLAS_ILP64', None), ('HAVE_LAPACKE', None)]\n",
            "lapack_ilp64_opt_info:\n",
            "    library_dirs = ['D:\\\\a\\\\numpy\\\\numpy\\\\build\\\\openblas64__lapack_info']\n",
            "    libraries = ['openblas64__lapack_info']\n",
            "    language = f77\n",
            "    define_macros = [('HAVE_CBLAS', None), ('BLAS_SYMBOL_SUFFIX', '64_'), ('HAVE_BLAS_ILP64', None), ('HAVE_LAPACKE', None)]\n",
            "Supported SIMD extensions in this NumPy install:\n",
            "    baseline = SSE,SSE2,SSE3\n",
            "    found = SSSE3,SSE41,POPCNT,SSE42,AVX,F16C,FMA3,AVX2,AVX512F,AVX512CD,AVX512_SKX,AVX512_CLX,AVX512_CNL,AVX512_ICL\n",
            "    not found = \n"
          ]
        }
      ],
      "source": [
        "print(np.__version__)\n",
        "np.show_config()"
      ]
    },
    {
      "cell_type": "markdown",
      "id": "e3c20b3d",
      "metadata": {
        "id": "e3c20b3d"
      },
      "source": [
        "#### 3. Create a null vector of size 10 (★☆☆)"
      ]
    },
    {
      "cell_type": "code",
      "execution_count": null,
      "id": "8a758bcf",
      "metadata": {
        "id": "8a758bcf",
        "outputId": "dc99f086-4c39-4784-ef00-56c51cae8298"
      },
      "outputs": [
        {
          "data": {
            "text/plain": [
              "array([0., 0., 0., 0., 0., 0., 0., 0., 0., 0.])"
            ]
          },
          "execution_count": 3,
          "metadata": {},
          "output_type": "execute_result"
        }
      ],
      "source": [
        "x=np.zeros(10)\n",
        "x"
      ]
    },
    {
      "cell_type": "markdown",
      "id": "b15a879f",
      "metadata": {
        "id": "b15a879f"
      },
      "source": [
        "#### 4. How to find the memory size of any array (★☆☆)"
      ]
    },
    {
      "cell_type": "code",
      "execution_count": null,
      "id": "1cc3cbc5",
      "metadata": {
        "id": "1cc3cbc5",
        "outputId": "9b3e4a2e-1524-4882-aa19-7a198ff66026"
      },
      "outputs": [
        {
          "name": "stdout",
          "output_type": "stream",
          "text": [
            "800 bytes\n"
          ]
        }
      ],
      "source": [
        "Z = np.zeros((10,10))\n",
        "print(\"%d bytes\" % (Z.size * Z.itemsize))"
      ]
    },
    {
      "cell_type": "code",
      "execution_count": null,
      "id": "4b779ed8",
      "metadata": {
        "id": "4b779ed8",
        "outputId": "c89e6fc5-d3d7-41e8-eb75-ef700cc87411"
      },
      "outputs": [
        {
          "name": "stdout",
          "output_type": "stream",
          "text": [
            "100\n",
            "8\n",
            "memory= 800\n"
          ]
        }
      ],
      "source": [
        "print(Z.size)\n",
        "print(Z.itemsize)\n",
        "print(\"memory=\",Z.size*Z.itemsize)"
      ]
    },
    {
      "cell_type": "markdown",
      "id": "0b16cd77",
      "metadata": {
        "id": "0b16cd77"
      },
      "source": [
        "#### 5. Create a null vector of size 10 but the fifth value which is 1 (★☆☆)"
      ]
    },
    {
      "cell_type": "code",
      "execution_count": null,
      "id": "4d9b5975",
      "metadata": {
        "id": "4d9b5975",
        "outputId": "b7ec8a57-0951-4949-b74e-68f03e45311e"
      },
      "outputs": [
        {
          "data": {
            "text/plain": [
              "array([0., 0., 0., 0., 1., 0., 0., 0., 0., 0.])"
            ]
          },
          "execution_count": 6,
          "metadata": {},
          "output_type": "execute_result"
        }
      ],
      "source": [
        "x5=np.zeros(10)\n",
        "x5[4]=1\n",
        "x5"
      ]
    },
    {
      "cell_type": "markdown",
      "id": "782d4c77",
      "metadata": {
        "id": "782d4c77"
      },
      "source": [
        "#### 6. Create a vector with values ranging from 10 to 49 (★☆☆)"
      ]
    },
    {
      "cell_type": "code",
      "execution_count": null,
      "id": "5dbe1a08",
      "metadata": {
        "id": "5dbe1a08",
        "outputId": "d8c8945f-57d8-4bf0-b116-baed347edebe"
      },
      "outputs": [
        {
          "data": {
            "text/plain": [
              "array([10, 11, 12, 13, 14, 15, 16, 17, 18, 19, 20, 21, 22, 23, 24, 25, 26,\n",
              "       27, 28, 29, 30, 31, 32, 33, 34, 35, 36, 37, 38, 39, 40, 41, 42, 43,\n",
              "       44, 45, 46, 47, 48, 49])"
            ]
          },
          "execution_count": 12,
          "metadata": {},
          "output_type": "execute_result"
        }
      ],
      "source": [
        "x6=np.arange(10,50)\n",
        "x6"
      ]
    },
    {
      "cell_type": "markdown",
      "id": "48d48f01",
      "metadata": {
        "id": "48d48f01"
      },
      "source": [
        "#### 7. Reverse a vector (first element becomes last) (★☆☆)"
      ]
    },
    {
      "cell_type": "code",
      "execution_count": null,
      "id": "3ed233e7",
      "metadata": {
        "id": "3ed233e7",
        "outputId": "8d5009ed-6558-4a5c-e299-9336fb580a4f"
      },
      "outputs": [
        {
          "data": {
            "text/plain": [
              "array([49, 48, 47, 46, 45, 44, 43, 42, 41, 40, 39, 38, 37, 36, 35, 34, 33,\n",
              "       32, 31, 30, 29, 28, 27, 26, 25, 24, 23, 22, 21, 20, 19, 18, 17, 16,\n",
              "       15, 14, 13, 12, 11, 10])"
            ]
          },
          "execution_count": 17,
          "metadata": {},
          "output_type": "execute_result"
        }
      ],
      "source": [
        "x7= np.sort(x6)[::-1]\n",
        "x7"
      ]
    },
    {
      "cell_type": "code",
      "execution_count": null,
      "id": "0da5316e",
      "metadata": {
        "id": "0da5316e",
        "outputId": "f039c603-9281-4ff2-aa36-8307ef268191"
      },
      "outputs": [
        {
          "name": "stdout",
          "output_type": "stream",
          "text": [
            "[49 48 47 46 45 44 43 42 41 40 39 38 37 36 35 34 33 32 31 30 29 28 27 26\n",
            " 25 24 23 22 21 20 19 18 17 16 15 14 13 12 11 10  9  8  7  6  5  4  3  2\n",
            "  1  0]\n"
          ]
        }
      ],
      "source": [
        "Z = np.arange(50)\n",
        "Z = Z[::-1]\n",
        "print(Z)"
      ]
    },
    {
      "cell_type": "markdown",
      "id": "4fa39382",
      "metadata": {
        "id": "4fa39382"
      },
      "source": [
        "#### 8. Create a 3x3 matrix with values ranging from 0 to 8 (★☆☆)"
      ]
    },
    {
      "cell_type": "code",
      "execution_count": null,
      "id": "c97757ec",
      "metadata": {
        "id": "c97757ec",
        "outputId": "d2c8535d-2f7b-4d04-cc37-b06340d10f8f"
      },
      "outputs": [
        {
          "data": {
            "text/plain": [
              "matrix([[0, 1, 2],\n",
              "        [3, 4, 5],\n",
              "        [6, 7, 8]])"
            ]
          },
          "execution_count": 22,
          "metadata": {},
          "output_type": "execute_result"
        }
      ],
      "source": [
        "np.matrix([[0,1,2],[3,4,5],[6,7,8]])"
      ]
    },
    {
      "cell_type": "code",
      "execution_count": null,
      "id": "56b511f9",
      "metadata": {
        "id": "56b511f9",
        "outputId": "f8ed8602-5597-4e4f-cf6b-5c2ad93747b6"
      },
      "outputs": [
        {
          "name": "stdout",
          "output_type": "stream",
          "text": [
            "[[0 1 2]\n",
            " [3 4 5]\n",
            " [6 7 8]]\n"
          ]
        }
      ],
      "source": [
        "Z = np.arange(9).reshape(3, 3)\n",
        "print(Z)"
      ]
    },
    {
      "cell_type": "markdown",
      "id": "da64551a",
      "metadata": {
        "id": "da64551a"
      },
      "source": [
        "#### 9. Find indices of non-zero elements from [1,2,0,0,4,0] (★☆☆)"
      ]
    },
    {
      "cell_type": "code",
      "execution_count": null,
      "id": "327f7adb",
      "metadata": {
        "id": "327f7adb",
        "outputId": "cff1a00d-69e0-4121-9c3e-a9483f8e9d0d"
      },
      "outputs": [
        {
          "data": {
            "text/plain": [
              "(array([0, 1, 4], dtype=int64),)"
            ]
          },
          "execution_count": 26,
          "metadata": {},
          "output_type": "execute_result"
        }
      ],
      "source": [
        "x9=np.array([1,2,0,0,4,0])\n",
        "np.nonzero(x9)"
      ]
    },
    {
      "cell_type": "markdown",
      "id": "f89d9c9e",
      "metadata": {
        "id": "f89d9c9e"
      },
      "source": [
        "#### 10. Create a 3x3 identity matrix (★☆☆)\n",
        "Hint : identity & eye, try to use 'help' to learn how to use two functions of numpy"
      ]
    },
    {
      "cell_type": "code",
      "execution_count": null,
      "id": "ba625832",
      "metadata": {
        "id": "ba625832",
        "outputId": "c6802409-6c45-474a-f1c8-0846a9c99163"
      },
      "outputs": [
        {
          "data": {
            "text/plain": [
              "array([[1., 0., 0.],\n",
              "       [0., 1., 0.],\n",
              "       [0., 0., 1.]])"
            ]
          },
          "execution_count": 27,
          "metadata": {},
          "output_type": "execute_result"
        }
      ],
      "source": [
        "np.identity(3)"
      ]
    },
    {
      "cell_type": "markdown",
      "id": "7e44c6fa",
      "metadata": {
        "id": "7e44c6fa"
      },
      "source": [
        "#### 11. Create a 3x3x3 array with random values (★☆☆)\n",
        "Hint : numpy.random.random"
      ]
    },
    {
      "cell_type": "code",
      "execution_count": null,
      "id": "1cb3dddf",
      "metadata": {
        "id": "1cb3dddf",
        "outputId": "8578b22b-40da-424e-8c0b-d489ba3cef51"
      },
      "outputs": [
        {
          "data": {
            "text/plain": [
              "array([[[0.75028435, 0.68595614, 0.26936467],\n",
              "        [0.96824163, 0.85079136, 0.86871457],\n",
              "        [0.37220941, 0.67965559, 0.04544349]],\n",
              "\n",
              "       [[0.51118054, 0.29998919, 0.77944347],\n",
              "        [0.57499558, 0.82922388, 0.54399088],\n",
              "        [0.20756104, 0.78555105, 0.57161213]],\n",
              "\n",
              "       [[0.39448371, 0.92287224, 0.44665644],\n",
              "        [0.07320916, 0.37879687, 0.83372877],\n",
              "        [0.19810502, 0.67482807, 0.20574502]]])"
            ]
          },
          "execution_count": 29,
          "metadata": {},
          "output_type": "execute_result"
        }
      ],
      "source": [
        "x = np.random.random((3,3,3))\n",
        "x"
      ]
    },
    {
      "cell_type": "markdown",
      "id": "13c5928c",
      "metadata": {
        "id": "13c5928c"
      },
      "source": [
        "#### 12. Create a 10x10 array with random values and find the **min**imum and **max**imum values (★☆☆)"
      ]
    },
    {
      "cell_type": "code",
      "execution_count": null,
      "id": "911c9b93",
      "metadata": {
        "id": "911c9b93",
        "outputId": "9976aec5-5f8f-457a-84c2-fc119a0322fe"
      },
      "outputs": [
        {
          "name": "stdout",
          "output_type": "stream",
          "text": [
            "0.003687536096002253\n",
            "0.997643269061672\n"
          ]
        }
      ],
      "source": [
        "x = np.random.random((10,10))\n",
        "print(x.min())\n",
        "print(x.max())"
      ]
    },
    {
      "cell_type": "markdown",
      "id": "3fa2e461",
      "metadata": {
        "id": "3fa2e461"
      },
      "source": [
        "#### 13. Create a random vector of size 30 and find the **mean** value (★☆☆)"
      ]
    },
    {
      "cell_type": "code",
      "execution_count": null,
      "id": "323eb38a",
      "metadata": {
        "id": "323eb38a",
        "outputId": "8a6fc259-5d18-4e82-892a-452a95f3aab5"
      },
      "outputs": [
        {
          "name": "stdout",
          "output_type": "stream",
          "text": [
            "0.5244220274987453\n"
          ]
        }
      ],
      "source": [
        "x13= np.random.random(30)\n",
        "print(x.mean())"
      ]
    },
    {
      "cell_type": "markdown",
      "id": "73f7a549",
      "metadata": {
        "id": "73f7a549"
      },
      "source": [
        "#### 14. Create a 2d array with 1 on the border and 0 inside (★☆☆)"
      ]
    },
    {
      "cell_type": "code",
      "execution_count": null,
      "id": "e3a6807d",
      "metadata": {
        "id": "e3a6807d",
        "outputId": "1317d3ea-4167-40e4-9c43-5535d887c96e"
      },
      "outputs": [
        {
          "data": {
            "text/plain": [
              "array([[1., 1., 1., 1.],\n",
              "       [1., 0., 0., 1.],\n",
              "       [1., 0., 0., 1.],\n",
              "       [1., 1., 1., 1.]])"
            ]
          },
          "execution_count": 37,
          "metadata": {},
          "output_type": "execute_result"
        }
      ],
      "source": [
        "x = np.ones((4,4))\n",
        "x[1:-1,1:-1] = 0\n",
        "x"
      ]
    },
    {
      "cell_type": "markdown",
      "id": "d6ad1a9f",
      "metadata": {
        "id": "d6ad1a9f"
      },
      "source": [
        "#### 15. What is the result of the following expression? (★☆☆)\n",
        "```python\n",
        "0 * np.nan\n",
        "np.nan == np.nan\n",
        "np.inf > np.nan\n",
        "np.nan - np.nan\n",
        "np.nan in set([np.nan])\n",
        "0.3 == 3 * 0.1\n",
        "```"
      ]
    },
    {
      "cell_type": "code",
      "execution_count": null,
      "id": "ee7ff0f3",
      "metadata": {
        "id": "ee7ff0f3",
        "outputId": "e15d46db-4a71-4d4f-99df-aee67f3cee1c"
      },
      "outputs": [
        {
          "name": "stdout",
          "output_type": "stream",
          "text": [
            "nan\n",
            "False\n",
            "False\n",
            "nan\n",
            "True\n",
            "False\n"
          ]
        }
      ],
      "source": [
        "print(0*np.nan)\n",
        "print(np.nan == np.nan) #연산자랑 같이 x\n",
        "print(np.inf>np.nan)\n",
        "print(np.nan-np.nan)\n",
        "print(np.nan in set([np.nan]))\n",
        "print(0.3 == 3*0.1)"
      ]
    },
    {
      "cell_type": "markdown",
      "id": "e3a7ba7f",
      "metadata": {
        "id": "e3a7ba7f"
      },
      "source": [
        "#### 16. Create a 5x5 matrix with values 1,2,3,4 just below the **diag**onal (★☆☆)"
      ]
    },
    {
      "cell_type": "code",
      "execution_count": null,
      "id": "01d8e257",
      "metadata": {
        "id": "01d8e257",
        "outputId": "eae7b485-20bc-48d7-8243-f31fa6b165d9"
      },
      "outputs": [
        {
          "data": {
            "text/plain": [
              "array([[0, 0, 0, 0, 0],\n",
              "       [1, 0, 0, 0, 0],\n",
              "       [0, 2, 0, 0, 0],\n",
              "       [0, 0, 3, 0, 0],\n",
              "       [0, 0, 0, 4, 0]])"
            ]
          },
          "execution_count": 84,
          "metadata": {},
          "output_type": "execute_result"
        }
      ],
      "source": [
        "np.diag(1+np.arange(4),k=-1)"
      ]
    },
    {
      "cell_type": "markdown",
      "id": "6d17ab5d",
      "metadata": {
        "id": "6d17ab5d"
      },
      "source": [
        "#### 17. Create a 8x8 matrix and fill it with a checkerboard pattern (★☆☆)"
      ]
    },
    {
      "cell_type": "code",
      "execution_count": null,
      "id": "841373cd",
      "metadata": {
        "id": "841373cd",
        "outputId": "4eda40ab-2c5c-464b-f169-2f7d7ac90729"
      },
      "outputs": [
        {
          "name": "stdout",
          "output_type": "stream",
          "text": [
            "[[0 1 0 1 0 1 0 1]\n",
            " [1 0 1 0 1 0 1 0]\n",
            " [0 1 0 1 0 1 0 1]\n",
            " [1 0 1 0 1 0 1 0]\n",
            " [0 1 0 1 0 1 0 1]\n",
            " [1 0 1 0 1 0 1 0]\n",
            " [0 1 0 1 0 1 0 1]\n",
            " [1 0 1 0 1 0 1 0]]\n"
          ]
        }
      ],
      "source": [
        "Z = np.zeros((8,8),dtype=int)\n",
        "Z[1::2,::2] = 1\n",
        "Z[::2,1::2] = 1\n",
        "print(Z)"
      ]
    },
    {
      "cell_type": "markdown",
      "id": "8837119b",
      "metadata": {
        "id": "8837119b"
      },
      "source": [
        "#### 18. Consider a (6,7,8) shape array, what is the index (x,y,z) of the 100th element? (★☆☆)\n",
        "Hint : use 'numpy.unravel_index(value, (x, y, z))"
      ]
    },
    {
      "cell_type": "code",
      "execution_count": null,
      "id": "2c0d16f1",
      "metadata": {
        "id": "2c0d16f1",
        "outputId": "1ca56cc1-c3fc-438c-fd1f-a137cc8bcd4b"
      },
      "outputs": [
        {
          "name": "stdout",
          "output_type": "stream",
          "text": [
            "(1, 5, 3)\n"
          ]
        }
      ],
      "source": [
        "print(np.unravel_index(99,(6,7,8)))"
      ]
    },
    {
      "cell_type": "markdown",
      "id": "391791e0",
      "metadata": {
        "id": "391791e0"
      },
      "source": [
        "#### 19. Normalize a 5x5 random matrix (★☆☆)\n",
        "Hint : $Z = \\frac{X - \\overline{X}}{S}$"
      ]
    },
    {
      "cell_type": "code",
      "execution_count": null,
      "id": "f6533d39",
      "metadata": {
        "id": "f6533d39",
        "outputId": "7b47d597-8353-469a-a177-935064b8f02b"
      },
      "outputs": [
        {
          "name": "stdout",
          "output_type": "stream",
          "text": [
            "[[-0.97036127  1.39670684 -0.70686839 -0.34435464 -0.93980982]\n",
            " [ 1.22371723 -0.84348818 -0.3739844   1.7583219  -0.30526214]\n",
            " [ 0.26521525  0.13778081 -0.49054367 -1.54806628 -1.09183045]\n",
            " [ 0.70767185  0.49889519 -0.65221387  0.62910759  0.4307576 ]\n",
            " [ 1.28626899 -1.39609104  0.8940959  -1.34810676  1.78244177]]\n"
          ]
        }
      ],
      "source": [
        "Z = np.random.random((5,5))\n",
        "Z = (Z - np.mean (Z)) / (np.std (Z))\n",
        "print(Z)"
      ]
    },
    {
      "cell_type": "markdown",
      "id": "1e74d39e",
      "metadata": {
        "id": "1e74d39e"
      },
      "source": [
        "#### 20. Create a custom dtype that describes a color as four unsigned bytes (RGBA) (★☆☆)\n",
        "Hint : modify the code below\n",
        "```python\n",
        "numpy.dtype([(value, numpy.ubyte), … , (value, numpy.ubyte)])\n",
        "```"
      ]
    },
    {
      "cell_type": "code",
      "execution_count": null,
      "id": "3f639d33",
      "metadata": {
        "id": "3f639d33"
      },
      "outputs": [],
      "source": [
        "color = np.dtype([(\"r\", np.ubyte),\n",
        "                  (\"g\", np.ubyte),\n",
        "                  (\"b\", np.ubyte),\n",
        "                  (\"a\", np.ubyte)])"
      ]
    },
    {
      "cell_type": "markdown",
      "id": "78250c14",
      "metadata": {
        "id": "78250c14"
      },
      "source": [
        "#### 21. Multiply a 5x3 matrix by a 3x2 matrix (real matrix product) (★☆☆)"
      ]
    },
    {
      "cell_type": "code",
      "execution_count": null,
      "id": "9fe729cb",
      "metadata": {
        "id": "9fe729cb",
        "outputId": "2aa5977d-0d41-41de-d388-05fd04a89148"
      },
      "outputs": [
        {
          "data": {
            "text/plain": [
              "matrix([[ 22,  28],\n",
              "        [ 49,  64],\n",
              "        [ 76, 100],\n",
              "        [103, 136],\n",
              "        [130, 172]])"
            ]
          },
          "execution_count": 45,
          "metadata": {},
          "output_type": "execute_result"
        }
      ],
      "source": [
        "a=np.matrix([[1,2,3],[4,5,6],[7,8,9],[10,11,12],[13,14,15]])\n",
        "b=np.matrix([[1,2],[3,4],[5,6]])\n",
        "a@b"
      ]
    },
    {
      "cell_type": "code",
      "execution_count": null,
      "id": "e0613cb0",
      "metadata": {
        "id": "e0613cb0",
        "outputId": "a1668165-0dfc-4251-bc83-8e58fabd25fb"
      },
      "outputs": [
        {
          "name": "stdout",
          "output_type": "stream",
          "text": [
            "[[3. 3.]\n",
            " [3. 3.]\n",
            " [3. 3.]\n",
            " [3. 3.]\n",
            " [3. 3.]]\n"
          ]
        }
      ],
      "source": [
        "Z = np.ones((5,3)) @ np.ones((3,2))\n",
        "print(Z)"
      ]
    },
    {
      "cell_type": "markdown",
      "id": "51898680",
      "metadata": {
        "id": "51898680"
      },
      "source": [
        "#### 22. Given a 1D array, negate all elements which are between 3 and 8, in place. (★☆☆)"
      ]
    },
    {
      "cell_type": "code",
      "execution_count": null,
      "id": "51c90f2d",
      "metadata": {
        "id": "51c90f2d",
        "outputId": "dc25d5d0-65c2-4d82-a9c6-b86e3da08473"
      },
      "outputs": [
        {
          "name": "stdout",
          "output_type": "stream",
          "text": [
            "[ 0  1  2  3 -4 -5 -6 -7  8  9 10]\n"
          ]
        }
      ],
      "source": [
        "Z = np.arange(11)\n",
        "Z[(3 < Z) & (Z < 8)] *= -1\n",
        "print(Z)"
      ]
    },
    {
      "cell_type": "markdown",
      "id": "89e78048",
      "metadata": {
        "id": "89e78048"
      },
      "source": [
        "#### 23. What is the output of the following script? (★☆☆)\n",
        "```python\n",
        "# Author: Jake VanderPlas\n",
        "\n",
        "print(sum(range(5),-1))\n",
        "from numpy import *\n",
        "print(sum(range(5),-1))\n",
        "```"
      ]
    },
    {
      "cell_type": "code",
      "execution_count": null,
      "id": "b62e9d1c",
      "metadata": {
        "id": "b62e9d1c",
        "outputId": "cd1fcb1d-c812-46d5-95e6-fd53023cba5f"
      },
      "outputs": [
        {
          "name": "stdout",
          "output_type": "stream",
          "text": [
            "9\n",
            "10\n"
          ]
        }
      ],
      "source": [
        "print(sum(range(5),-1))\n",
        "from numpy import *\n",
        "print(sum(range(5),-1))"
      ]
    },
    {
      "cell_type": "markdown",
      "id": "ebd10810",
      "metadata": {
        "id": "ebd10810"
      },
      "source": [
        "#### 24. Consider an integer vector Z, which of these expressions are legal? (★☆☆)\n",
        "```python\n",
        "Z**Z\n",
        "2 << Z >> 2\n",
        "Z <- Z\n",
        "1j*Z\n",
        "Z/1/1\n",
        "Z<Z>Z\n",
        "```"
      ]
    },
    {
      "cell_type": "code",
      "execution_count": null,
      "id": "6ada209f",
      "metadata": {
        "id": "6ada209f",
        "outputId": "19569d3f-1f1a-4364-b6b4-9bc0671ea16b"
      },
      "outputs": [
        {
          "data": {
            "text/plain": [
              "False"
            ]
          },
          "execution_count": 53,
          "metadata": {},
          "output_type": "execute_result"
        }
      ],
      "source": [
        "Z=[1,2,3]\n",
        "#Z**Z is not legal\n",
        "#2 << Z >>2 is no legal\n",
        "#Z <- Z is not legal\n",
        "#1j*Z is not legal\n",
        "#Z/1/1 is not legal\n",
        "Z<Z>Z"
      ]
    },
    {
      "cell_type": "markdown",
      "id": "c0e940f8",
      "metadata": {
        "id": "c0e940f8"
      },
      "source": [
        "#### 25. What are the result of the following expressions? (★☆☆)\n",
        "```python\n",
        "np.array(0) / np.array(0)\n",
        "np.array(0) // np.array(0)\n",
        "np.array([np.nan]).astype(int).astype(float)\n",
        "```"
      ]
    },
    {
      "cell_type": "code",
      "execution_count": null,
      "id": "820dc7a5",
      "metadata": {
        "id": "820dc7a5",
        "outputId": "7cb1ecaf-de6d-463f-e8af-6cc38cfe7857"
      },
      "outputs": [
        {
          "name": "stdout",
          "output_type": "stream",
          "text": [
            "nan\n",
            "0\n",
            "[-2.14748365e+09]\n"
          ]
        },
        {
          "name": "stderr",
          "output_type": "stream",
          "text": [
            "C:\\Users\\candi\\AppData\\Local\\Temp\\ipykernel_14504\\3912170336.py:1: RuntimeWarning: invalid value encountered in divide\n",
            "  print(np.array(0) / np.array(0))\n",
            "C:\\Users\\candi\\AppData\\Local\\Temp\\ipykernel_14504\\3912170336.py:2: RuntimeWarning: divide by zero encountered in floor_divide\n",
            "  print(np.array(0) // np.array(0))\n"
          ]
        }
      ],
      "source": [
        "print(np.array(0) / np.array(0))\n",
        "print(np.array(0) // np.array(0))\n",
        "print(np.array([np.nan]).astype(int).astype(float))"
      ]
    },
    {
      "cell_type": "markdown",
      "id": "f1ae2c2d",
      "metadata": {
        "id": "f1ae2c2d"
      },
      "source": [
        "#### 26. How to find common values between two arrays? (★☆☆)\n",
        "```python\n",
        "Z1 = np.random.randint(0,10,10)\n",
        "Z2 = np.random.randint(0,10,10)\n",
        "```\n",
        "Hint : use `numpy.random.randint(start, end, size)`"
      ]
    },
    {
      "cell_type": "code",
      "execution_count": null,
      "id": "6801c73d",
      "metadata": {
        "id": "6801c73d",
        "colab": {
          "base_uri": "https://localhost:8080/"
        },
        "outputId": "18e0b93c-34f2-49fe-d9bd-e2c5c2c3b280"
      },
      "outputs": [
        {
          "output_type": "execute_result",
          "data": {
            "text/plain": [
              "array([0, 1, 5, 9])"
            ]
          },
          "metadata": {},
          "execution_count": 5
        }
      ],
      "source": [
        "Z1 = np.random.randint(0,10,10)\n",
        "Z2 = np.random.randint(0,10,10)\n",
        "np.intersect1d(Z1,Z2)"
      ]
    },
    {
      "cell_type": "markdown",
      "id": "37bc0973",
      "metadata": {
        "id": "37bc0973"
      },
      "source": [
        "#### 27. Is the following expressions true? (★☆☆)\n",
        "```python\n",
        "np.sqrt(-1) == np.emath.sqrt(-1)\n",
        "```"
      ]
    },
    {
      "cell_type": "code",
      "execution_count": null,
      "id": "bb8e16c6",
      "metadata": {
        "id": "bb8e16c6",
        "colab": {
          "base_uri": "https://localhost:8080/"
        },
        "outputId": "bfeaa9f0-b676-4118-9077-4637e076948e"
      },
      "outputs": [
        {
          "output_type": "stream",
          "name": "stderr",
          "text": [
            "<ipython-input-6-16339fbc685e>:1: RuntimeWarning: invalid value encountered in sqrt\n",
            "  np.sqrt(-1) == np.emath.sqrt(-1)\n"
          ]
        },
        {
          "output_type": "execute_result",
          "data": {
            "text/plain": [
              "False"
            ]
          },
          "metadata": {},
          "execution_count": 6
        }
      ],
      "source": [
        "np.sqrt(-1) == np.emath.sqrt(-1)\n",
        "#False"
      ]
    },
    {
      "cell_type": "markdown",
      "id": "42f8b2f9",
      "metadata": {
        "id": "42f8b2f9"
      },
      "source": [
        "#### 28. How to get all the dates corresponding to the month of July 2016? (★★☆)\n",
        "Hint : modify the code below\n",
        "```python\n",
        "Z = np.arange('start', 'end', dtype='datetime64[D]')\n",
        "```"
      ]
    },
    {
      "cell_type": "code",
      "execution_count": null,
      "id": "d1d507ad",
      "metadata": {
        "id": "d1d507ad",
        "colab": {
          "base_uri": "https://localhost:8080/"
        },
        "outputId": "092557a2-f34e-4833-95f5-5a02657a0466"
      },
      "outputs": [
        {
          "output_type": "execute_result",
          "data": {
            "text/plain": [
              "array(['2016-07-01', '2016-07-02', '2016-07-03', '2016-07-04',\n",
              "       '2016-07-05', '2016-07-06', '2016-07-07', '2016-07-08',\n",
              "       '2016-07-09', '2016-07-10', '2016-07-11', '2016-07-12',\n",
              "       '2016-07-13', '2016-07-14', '2016-07-15', '2016-07-16',\n",
              "       '2016-07-17', '2016-07-18', '2016-07-19', '2016-07-20',\n",
              "       '2016-07-21', '2016-07-22', '2016-07-23', '2016-07-24',\n",
              "       '2016-07-25', '2016-07-26', '2016-07-27', '2016-07-28',\n",
              "       '2016-07-29', '2016-07-30', '2016-07-31'], dtype='datetime64[D]')"
            ]
          },
          "metadata": {},
          "execution_count": 10
        }
      ],
      "source": [
        "Z = np.arange('2016-07','2016-08', dtype='datetime64[D]')\n",
        "Z"
      ]
    },
    {
      "cell_type": "markdown",
      "id": "252c43e2",
      "metadata": {
        "id": "252c43e2"
      },
      "source": [
        "#### 29. How to compute ((A+B)*(-A/2)) in place (without copy)? (★★☆)\n",
        "Hint : use `numpy.add`, `numpy.divide`,`numpy.negative`, `numpy.multiply` and parameter `out` of the funtions"
      ]
    },
    {
      "cell_type": "code",
      "execution_count": null,
      "id": "f06ff615",
      "metadata": {
        "id": "f06ff615",
        "colab": {
          "base_uri": "https://localhost:8080/"
        },
        "outputId": "05e03ba5-dbdd-4605-810f-711dffd16c7d"
      },
      "outputs": [
        {
          "output_type": "stream",
          "name": "stdout",
          "text": [
            "[1. 1. 1.]\n",
            "[2. 2. 2.]\n",
            "[3. 3. 3.]\n"
          ]
        },
        {
          "output_type": "execute_result",
          "data": {
            "text/plain": [
              "array([-1.5, -1.5, -1.5])"
            ]
          },
          "metadata": {},
          "execution_count": 20
        }
      ],
      "source": [
        "A = np.ones(3)*1\n",
        "B = np.ones(3)*2\n",
        "C = np.ones(3)*3\n",
        "print(A)\n",
        "print(B)\n",
        "print(C)\n",
        "\n",
        "np.add(A,B) * (np.divide(A,2) * np.negative(A))\n"
      ]
    },
    {
      "cell_type": "markdown",
      "id": "486df8ea",
      "metadata": {
        "id": "486df8ea"
      },
      "source": [
        "#### 30. Extract the integer part of a random array of positive numbers using 2 different methods (★★☆)\n",
        "Hint : `%`, `//`"
      ]
    },
    {
      "cell_type": "code",
      "execution_count": 54,
      "id": "34b4fa08",
      "metadata": {
        "id": "34b4fa08",
        "colab": {
          "base_uri": "https://localhost:8080/"
        },
        "outputId": "bcda375c-5366-48fa-f4f4-e17a305b6659"
      },
      "outputs": [
        {
          "output_type": "stream",
          "name": "stdout",
          "text": [
            "[7. 1. 3. 5. 6. 2. 2. 0. 1. 5.]\n",
            "[7. 1. 3. 5. 6. 2. 2. 0. 1. 5.]\n"
          ]
        }
      ],
      "source": [
        "x30=np.random.uniform(0,10,10)\n",
        "print(x30-x30%1)\n",
        "print(np.floor(x30))"
      ]
    },
    {
      "cell_type": "markdown",
      "id": "649e89f9",
      "metadata": {
        "id": "649e89f9"
      },
      "source": [
        "#### 31. Create a 5x5 matrix with row values ranging from 0 to 4 (★★☆)"
      ]
    },
    {
      "cell_type": "code",
      "execution_count": null,
      "id": "699d5018",
      "metadata": {
        "id": "699d5018",
        "colab": {
          "base_uri": "https://localhost:8080/"
        },
        "outputId": "decba315-6878-440d-95f2-294bef2e43db"
      },
      "outputs": [
        {
          "output_type": "execute_result",
          "data": {
            "text/plain": [
              "array([[0., 0., 0., 0., 0.],\n",
              "       [1., 1., 1., 1., 1.],\n",
              "       [2., 2., 2., 2., 2.],\n",
              "       [3., 3., 3., 3., 3.],\n",
              "       [4., 4., 4., 4., 4.]])"
            ]
          },
          "metadata": {},
          "execution_count": 21
        }
      ],
      "source": [
        "array31 = np.zeros((5,5))\n",
        "array31[1,:] = 1\n",
        "array31[2,:] = 2\n",
        "array31[3,:] = 3\n",
        "array31[4,:] = 4\n",
        "array31"
      ]
    },
    {
      "cell_type": "markdown",
      "id": "2d07be1c",
      "metadata": {
        "id": "2d07be1c"
      },
      "source": [
        "#### 32. Create a random vector of size 10 and sort it (★★☆)"
      ]
    },
    {
      "cell_type": "code",
      "execution_count": null,
      "id": "2e17f92c",
      "metadata": {
        "id": "2e17f92c",
        "colab": {
          "base_uri": "https://localhost:8080/"
        },
        "outputId": "73447025-c58c-4b3c-816b-682368f73067"
      },
      "outputs": [
        {
          "output_type": "execute_result",
          "data": {
            "text/plain": [
              "array([0.10432043, 0.1358537 , 0.16769293, 0.23045336, 0.25236252,\n",
              "       0.64999935, 0.76205766, 0.76331161, 0.84831645, 0.95301081])"
            ]
          },
          "metadata": {},
          "execution_count": 23
        }
      ],
      "source": [
        "x32= np.random.random(10)\n",
        "np.sort(x32)"
      ]
    },
    {
      "cell_type": "markdown",
      "id": "fe043549",
      "metadata": {
        "id": "fe043549"
      },
      "source": [
        "#### 33. Consider two random array A and B, check if they are equal (★★☆)\n",
        "```python\n",
        "A = np.random.randint(0,2,5)\n",
        "B = np.random.randint(0,2,5)\n",
        "```\n",
        "Hint : Use `numpy.array_equal()`"
      ]
    },
    {
      "cell_type": "code",
      "execution_count": null,
      "id": "141970a7",
      "metadata": {
        "id": "141970a7",
        "colab": {
          "base_uri": "https://localhost:8080/"
        },
        "outputId": "a613b8cd-57cb-40d8-b5d1-c1c13144bf79"
      },
      "outputs": [
        {
          "output_type": "execute_result",
          "data": {
            "text/plain": [
              "False"
            ]
          },
          "metadata": {},
          "execution_count": 25
        }
      ],
      "source": [
        "A = np.random.randint(0,2,5)\n",
        "B = np.random.randint(0,2,5)\n",
        "np.array_equal(A,B)"
      ]
    },
    {
      "cell_type": "markdown",
      "id": "2002cb03",
      "metadata": {
        "id": "2002cb03"
      },
      "source": [
        "#### 34. Consider a random 10x2 matrix representing cartesian coordinates, convert them to polar coordinates (★★☆)\n",
        "Hint 1 : Note that cartesian coodinate **(x, y)** can be represented as  polar coordinates **(distance from origin to (x,y), angle from the x-axis)**\n",
        "\n",
        "Hint 2 : Use `numpy.sqrt` and `numpy.arctan2`"
      ]
    },
    {
      "cell_type": "code",
      "execution_count": 50,
      "id": "58be72bc",
      "metadata": {
        "id": "58be72bc",
        "colab": {
          "base_uri": "https://localhost:8080/"
        },
        "outputId": "421bdabc-7d5f-46da-a01e-e634d3f2b9ad"
      },
      "outputs": [
        {
          "output_type": "stream",
          "name": "stdout",
          "text": [
            "[0.2483078  1.01411088 0.83077066 0.24149134 0.81031089 0.68587967\n",
            " 0.87856758 0.30693061 0.77368581 1.01616277]\n"
          ]
        }
      ],
      "source": [
        "z= np.random.random((10,2))\n",
        "x,y = z[:,0], z[:,1]\n",
        "r = np.sqrt(x**2+y**2)\n",
        "t = np.arctan2(y,x)\n",
        "print(r)"
      ]
    },
    {
      "cell_type": "markdown",
      "id": "b7109c9f",
      "metadata": {
        "id": "b7109c9f"
      },
      "source": [
        "#### 35. Create random vector Z of size 10 and replace the maximum value by 0 (★★☆)\n",
        "Hint : We can see the index of maximum value using `Z.argmax()`"
      ]
    },
    {
      "cell_type": "code",
      "execution_count": 34,
      "id": "7e075bfe",
      "metadata": {
        "id": "7e075bfe",
        "colab": {
          "base_uri": "https://localhost:8080/"
        },
        "outputId": "83804efb-d881-4896-b020-72f7a000ec46"
      },
      "outputs": [
        {
          "output_type": "execute_result",
          "data": {
            "text/plain": [
              "array([0.3352132 , 0.47277867, 0.92415268, 0.55739477, 0.92216165,\n",
              "       0.32766343, 0.74635074, 0.51577186, 0.        , 0.15922475])"
            ]
          },
          "metadata": {},
          "execution_count": 34
        }
      ],
      "source": [
        "x32= np.random.random(10)\n",
        "x32[x32.argmax()] = 0\n",
        "x32\n"
      ]
    },
    {
      "cell_type": "markdown",
      "id": "e6e1ae2f",
      "metadata": {
        "id": "e6e1ae2f"
      },
      "source": [
        "#### 36. How to find the closest value (to a given scalar v) in a vector Z? (★★☆)\n",
        "```python\n",
        "Z = np.arange(100)\n",
        "v = np.random.uniform(0,100)\n",
        "```\n",
        "Hint : Coumpute the distances between the each elements of Z and the scalar v. After that, we can see the index of minimum value using `argmin()`.  "
      ]
    },
    {
      "cell_type": "code",
      "execution_count": 36,
      "id": "QkQ2Mii77FrE",
      "metadata": {
        "id": "QkQ2Mii77FrE",
        "colab": {
          "base_uri": "https://localhost:8080/"
        },
        "outputId": "c647bcf1-fc2a-4290-d014-f10ab2afc5d5"
      },
      "outputs": [
        {
          "output_type": "stream",
          "name": "stdout",
          "text": [
            "18\n"
          ]
        }
      ],
      "source": [
        "Z = np.arange(100)\n",
        "v = np.random.uniform(0,100)\n",
        "\n",
        "index = (np.abs(Z-v)).argmin()\n",
        "print(Z[index])"
      ]
    },
    {
      "cell_type": "markdown",
      "id": "f98713a6",
      "metadata": {
        "id": "f98713a6"
      },
      "source": [
        "#### 37. What is the equivalent of enumerate for numpy arrays? (★★☆)\n",
        "Hint : Use `numpy.ndenumerate()`or `numpy.ndindex()`\n",
        "\n",
        "Example of the output :\n",
        "```python\n",
        "Z = np.arange(9).reshape(3,3)\n",
        "```\n",
        "```python\n",
        "# output\n",
        "(0, 0) 0\n",
        "(0, 1) 1\n",
        "(0, 2) 2\n",
        "(1, 0) 3\n",
        "(1, 1) 4\n",
        "(1, 2) 5\n",
        "(2, 0) 6\n",
        "(2, 1) 7\n",
        "(2, 2) 8\n",
        "```"
      ]
    },
    {
      "cell_type": "code",
      "execution_count": 48,
      "id": "64795f84",
      "metadata": {
        "id": "64795f84"
      },
      "outputs": [],
      "source": [
        "Z = np.arange(9).reshape(3,3)"
      ]
    },
    {
      "cell_type": "code",
      "source": [
        "for index, value in np.ndenumerate(Z):\n",
        "  print(index, value)\n",
        "for index in np.ndindex(Z.shape):\n",
        "  print(index, Z[index])"
      ],
      "metadata": {
        "colab": {
          "base_uri": "https://localhost:8080/"
        },
        "id": "gdVPlEQ4wmcU",
        "outputId": "290b4b16-9c0e-4c21-f7f5-980f48f1055e"
      },
      "id": "gdVPlEQ4wmcU",
      "execution_count": 49,
      "outputs": [
        {
          "output_type": "stream",
          "name": "stdout",
          "text": [
            "(0, 0) 0\n",
            "(0, 1) 1\n",
            "(0, 2) 2\n",
            "(1, 0) 3\n",
            "(1, 1) 4\n",
            "(1, 2) 5\n",
            "(2, 0) 6\n",
            "(2, 1) 7\n",
            "(2, 2) 8\n",
            "(0, 0) 0\n",
            "(0, 1) 1\n",
            "(0, 2) 2\n",
            "(1, 0) 3\n",
            "(1, 1) 4\n",
            "(1, 2) 5\n",
            "(2, 0) 6\n",
            "(2, 1) 7\n",
            "(2, 2) 8\n"
          ]
        }
      ]
    },
    {
      "cell_type": "markdown",
      "id": "0cf413ee",
      "metadata": {
        "id": "0cf413ee"
      },
      "source": [
        "#### 38. How to randomly place p elements in a 2D array? (★★☆)\n",
        "Hint : modify the code below\n",
        "```python\n",
        "n = 'size of a 2D array'\n",
        "p = 'the number of elements that you want to place'\n",
        "Z = np.zeros((n,n))\n",
        "np.put(Z, np.random.choice(range(n*n), p, replace = False),'value that you want to place')\n",
        "print(Z)\n",
        "```"
      ]
    },
    {
      "cell_type": "code",
      "execution_count": 47,
      "id": "dfc57e06",
      "metadata": {
        "id": "dfc57e06",
        "colab": {
          "base_uri": "https://localhost:8080/"
        },
        "outputId": "13eb233e-f209-492b-a6e8-94d18884bc9a"
      },
      "outputs": [
        {
          "output_type": "stream",
          "name": "stdout",
          "text": [
            "[[5. 0. 0.]\n",
            " [0. 0. 5.]\n",
            " [5. 5. 5.]]\n"
          ]
        }
      ],
      "source": [
        "n = 3\n",
        "#'size of a 2D array'\n",
        "p = 5\n",
        "#'the number of elements that you want to place'\n",
        "Z = np.zeros((n,n))\n",
        "np.put(Z, np.random.choice(range(n*n), p, replace = False),p)\n",
        "print(Z)"
      ]
    },
    {
      "cell_type": "markdown",
      "id": "c0cf37e0",
      "metadata": {
        "id": "c0cf37e0"
      },
      "source": [
        "#### 39. How to sort an array below by the nth column? (★★☆)\n",
        "```python\n",
        "Z = np.random.randint(0,10,(3,3))\n",
        "```"
      ]
    },
    {
      "cell_type": "code",
      "source": [
        "Z = np.random.randint(0,10,(3,3))\n",
        "Z"
      ],
      "metadata": {
        "colab": {
          "base_uri": "https://localhost:8080/"
        },
        "id": "0Y9bJ7G2s35X",
        "outputId": "3dfb339f-3423-4649-aa95-2954f66e9dca"
      },
      "id": "0Y9bJ7G2s35X",
      "execution_count": 38,
      "outputs": [
        {
          "output_type": "execute_result",
          "data": {
            "text/plain": [
              "array([[9, 4, 9],\n",
              "       [3, 9, 0],\n",
              "       [0, 9, 2]])"
            ]
          },
          "metadata": {},
          "execution_count": 38
        }
      ]
    },
    {
      "cell_type": "code",
      "source": [
        "# column 1"
      ],
      "metadata": {
        "id": "_zOQjMC_uFnI"
      },
      "id": "_zOQjMC_uFnI",
      "execution_count": null,
      "outputs": []
    },
    {
      "cell_type": "code",
      "source": [
        "print(Z[Z[:,0].argsort()])"
      ],
      "metadata": {
        "colab": {
          "base_uri": "https://localhost:8080/"
        },
        "id": "ytUsQnWPtYnB",
        "outputId": "1ad6f759-ad3d-4f8b-cc85-4885b5cc6aff"
      },
      "id": "ytUsQnWPtYnB",
      "execution_count": 40,
      "outputs": [
        {
          "output_type": "stream",
          "name": "stdout",
          "text": [
            "[[0 9 2]\n",
            " [3 9 0]\n",
            " [9 4 9]]\n"
          ]
        }
      ]
    },
    {
      "cell_type": "code",
      "execution_count": null,
      "id": "0hZzZ6tn2K6V",
      "metadata": {
        "id": "0hZzZ6tn2K6V"
      },
      "outputs": [],
      "source": [
        "# column 2"
      ]
    },
    {
      "cell_type": "code",
      "source": [
        "print(Z[Z[:,1].argsort()])"
      ],
      "metadata": {
        "colab": {
          "base_uri": "https://localhost:8080/"
        },
        "id": "QqEMG0PHuGtG",
        "outputId": "8c8d0006-4c13-4e1f-e1e9-b7b9e1ac671b"
      },
      "id": "QqEMG0PHuGtG",
      "execution_count": 42,
      "outputs": [
        {
          "output_type": "stream",
          "name": "stdout",
          "text": [
            "[[9 4 9]\n",
            " [3 9 0]\n",
            " [0 9 2]]\n"
          ]
        }
      ]
    },
    {
      "cell_type": "code",
      "execution_count": null,
      "id": "z4zqQXvt2NaB",
      "metadata": {
        "id": "z4zqQXvt2NaB"
      },
      "outputs": [],
      "source": [
        "# column 3"
      ]
    },
    {
      "cell_type": "code",
      "source": [
        "print(Z[Z[:,2].argsort()])"
      ],
      "metadata": {
        "colab": {
          "base_uri": "https://localhost:8080/"
        },
        "id": "oAude_9iuJTb",
        "outputId": "97b8f5af-40d7-4acd-da76-43367234b58b"
      },
      "id": "oAude_9iuJTb",
      "execution_count": 41,
      "outputs": [
        {
          "output_type": "stream",
          "name": "stdout",
          "text": [
            "[[3 9 0]\n",
            " [0 9 2]\n",
            " [9 4 9]]\n"
          ]
        }
      ]
    }
  ],
  "metadata": {
    "colab": {
      "collapsed_sections": [
        "51898680"
      ],
      "provenance": [],
      "include_colab_link": true
    },
    "kernelspec": {
      "display_name": "Python 3 (ipykernel)",
      "language": "python",
      "name": "python3"
    },
    "language_info": {
      "codemirror_mode": {
        "name": "ipython",
        "version": 3
      },
      "file_extension": ".py",
      "mimetype": "text/x-python",
      "name": "python",
      "nbconvert_exporter": "python",
      "pygments_lexer": "ipython3",
      "version": "3.9.13"
    }
  },
  "nbformat": 4,
  "nbformat_minor": 5
}